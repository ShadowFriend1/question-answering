{
 "cells": [
  {
   "cell_type": "markdown",
   "source": [
    "Import required modules"
   ],
   "metadata": {
    "collapsed": false
   }
  },
  {
   "cell_type": "code",
   "execution_count": 2,
   "outputs": [],
   "source": [
    "import matplotlib_inline\n",
    "import locale\n",
    "locale.getpreferredencoding = lambda: \"utf-8\""
   ],
   "metadata": {
    "collapsed": false,
    "ExecuteTime": {
     "end_time": "2023-05-02T11:57:17.692079900Z",
     "start_time": "2023-05-02T11:57:15.861574200Z"
    }
   }
  },
  {
   "cell_type": "markdown",
   "source": [
    "Load the datasets"
   ],
   "metadata": {
    "collapsed": false
   }
  },
  {
   "cell_type": "code",
   "execution_count": 4,
   "outputs": [
    {
     "name": "stderr",
     "output_type": "stream",
     "text": [
      "Found cached dataset openwebtext (C:/Users/jackn/.cache/huggingface/datasets/openwebtext/plain_text/1.0.0/6f68e85c16ccc770c0dd489f4008852ea9633604995addd0cd76e293aed9e521)\n"
     ]
    },
    {
     "data": {
      "text/plain": "  0%|          | 0/1 [00:00<?, ?it/s]",
      "application/vnd.jupyter.widget-view+json": {
       "version_major": 2,
       "version_minor": 0,
       "model_id": "32f3a76f119d4d71a4c9bb8f3629067b"
      }
     },
     "metadata": {},
     "output_type": "display_data"
    },
    {
     "name": "stderr",
     "output_type": "stream",
     "text": [
      "Found cached dataset hendrycks_test (C:/Users/jackn/.cache/huggingface/datasets/hendrycks_test/college_computer_science/1.0.0/57b2dd57a718ddafaef8bfa1d900726b1f6fadb2df3fca0091347ed14834a9cc)\n"
     ]
    },
    {
     "data": {
      "text/plain": "  0%|          | 0/4 [00:00<?, ?it/s]",
      "application/vnd.jupyter.widget-view+json": {
       "version_major": 2,
       "version_minor": 0,
       "model_id": "8b131286cc954c8aaaa66e2437ddd434"
      }
     },
     "metadata": {},
     "output_type": "display_data"
    },
    {
     "name": "stderr",
     "output_type": "stream",
     "text": [
      "Found cached dataset hendrycks_test (C:/Users/jackn/.cache/huggingface/datasets/hendrycks_test/college_physics/1.0.0/57b2dd57a718ddafaef8bfa1d900726b1f6fadb2df3fca0091347ed14834a9cc)\n"
     ]
    },
    {
     "data": {
      "text/plain": "  0%|          | 0/4 [00:00<?, ?it/s]",
      "application/vnd.jupyter.widget-view+json": {
       "version_major": 2,
       "version_minor": 0,
       "model_id": "7f9a1868dc874e449c68d72a56ba483e"
      }
     },
     "metadata": {},
     "output_type": "display_data"
    },
    {
     "name": "stderr",
     "output_type": "stream",
     "text": [
      "Found cached dataset hendrycks_test (C:/Users/jackn/.cache/huggingface/datasets/hendrycks_test/high_school_computer_science/1.0.0/57b2dd57a718ddafaef8bfa1d900726b1f6fadb2df3fca0091347ed14834a9cc)\n"
     ]
    },
    {
     "data": {
      "text/plain": "  0%|          | 0/4 [00:00<?, ?it/s]",
      "application/vnd.jupyter.widget-view+json": {
       "version_major": 2,
       "version_minor": 0,
       "model_id": "1640d6e1089643a79f73445879570478"
      }
     },
     "metadata": {},
     "output_type": "display_data"
    },
    {
     "name": "stderr",
     "output_type": "stream",
     "text": [
      "Found cached dataset hendrycks_test (C:/Users/jackn/.cache/huggingface/datasets/hendrycks_test/high_school_physics/1.0.0/57b2dd57a718ddafaef8bfa1d900726b1f6fadb2df3fca0091347ed14834a9cc)\n"
     ]
    },
    {
     "data": {
      "text/plain": "  0%|          | 0/4 [00:00<?, ?it/s]",
      "application/vnd.jupyter.widget-view+json": {
       "version_major": 2,
       "version_minor": 0,
       "model_id": "9c299655939345daaa4b1ae916c21541"
      }
     },
     "metadata": {},
     "output_type": "display_data"
    },
    {
     "name": "stderr",
     "output_type": "stream",
     "text": [
      "Found cached dataset hendrycks_test (C:/Users/jackn/.cache/huggingface/datasets/hendrycks_test/astronomy/1.0.0/57b2dd57a718ddafaef8bfa1d900726b1f6fadb2df3fca0091347ed14834a9cc)\n"
     ]
    },
    {
     "data": {
      "text/plain": "  0%|          | 0/4 [00:00<?, ?it/s]",
      "application/vnd.jupyter.widget-view+json": {
       "version_major": 2,
       "version_minor": 0,
       "model_id": "8e24ca06c67c4da59595c1533d3bc7ac"
      }
     },
     "metadata": {},
     "output_type": "display_data"
    },
    {
     "name": "stdout",
     "output_type": "stream",
     "text": [
      "Web Text Train dataset size: 8013769\n",
      "\n",
      "High School CS Questions Train dataset size: 99842\n",
      "High School CS Questions Test dataset size: 100\n",
      "High School CS Questions Validation dataset size: 9\n",
      "High School CS Questions Dev dataset size: 5\n",
      "\n",
      "High School Physics Questions Train dataset size: 99842\n",
      "High School Physics Questions Test dataset size: 151\n",
      "High School Physics Questions Validation dataset size: 17\n",
      "High School Physics Questions Dev dataset size: 5\n",
      "\n",
      "College CS Questions Train dataset size: 99842\n",
      "College CS Questions Test dataset size: 100\n",
      "College CS Questions Validation dataset size: 11\n",
      "College CS Questions Dev dataset size: 5\n",
      "\n",
      "College Physics Questions Train dataset size: 99842\n",
      "College Physics Questions Test dataset size: 102\n",
      "College Physics Questions Validation dataset size: 11\n",
      "College Physics Questions Dev dataset size: 5\n",
      "\n",
      "Astronomy Questions Train dataset size: 99842\n",
      "Astronomy Questions Test dataset size: 152\n",
      "Astronomy Questions Validation dataset size: 16\n",
      "Astronomy Questions Dev dataset size: 5\n"
     ]
    }
   ],
   "source": [
    "from datasets import load_dataset\n",
    "\n",
    "ds_openwebtext = load_dataset('openwebtext')\n",
    "\n",
    "ds_hendryckstest_co_cs = load_dataset('hendrycks_test', 'college_computer_science')\n",
    "ds_hendryckstest_co_ph = load_dataset('hendrycks_test', 'college_physics')\n",
    "ds_hendryckstest_hs_cs = load_dataset('hendrycks_test', 'high_school_computer_science')\n",
    "ds_hendryckstest_hs_ph = load_dataset('hendrycks_test', 'high_school_physics')\n",
    "ds_hendryckstest_as = load_dataset('hendrycks_test', 'astronomy')\n",
    "\n",
    "print(f\"Web Text Train dataset size: {len(ds_openwebtext['train'])}\")\n",
    "print()\n",
    "print(f\"High School CS Questions Train dataset size: {len(ds_hendryckstest_hs_cs['auxiliary_train'])}\")\n",
    "print(f\"High School CS Questions Test dataset size: {len(ds_hendryckstest_hs_cs['test'])}\")\n",
    "print(f\"High School CS Questions Validation dataset size: {len(ds_hendryckstest_hs_cs['validation'])}\")\n",
    "print(f\"High School CS Questions Dev dataset size: {len(ds_hendryckstest_hs_cs['dev'])}\")\n",
    "print()\n",
    "print(f\"High School Physics Questions Train dataset size: {len(ds_hendryckstest_hs_ph['auxiliary_train'])}\")\n",
    "print(f\"High School Physics Questions Test dataset size: {len(ds_hendryckstest_hs_ph['test'])}\")\n",
    "print(f\"High School Physics Questions Validation dataset size: {len(ds_hendryckstest_hs_ph['validation'])}\")\n",
    "print(f\"High School Physics Questions Dev dataset size: {len(ds_hendryckstest_hs_ph['dev'])}\")\n",
    "print()\n",
    "print(f\"College CS Questions Train dataset size: {len(ds_hendryckstest_co_cs['auxiliary_train'])}\")\n",
    "print(f\"College CS Questions Test dataset size: {len(ds_hendryckstest_co_cs['test'])}\")\n",
    "print(f\"College CS Questions Validation dataset size: {len(ds_hendryckstest_co_cs['validation'])}\")\n",
    "print(f\"College CS Questions Dev dataset size: {len(ds_hendryckstest_co_cs['dev'])}\")\n",
    "print()\n",
    "print(f\"College Physics Questions Train dataset size: {len(ds_hendryckstest_co_ph['auxiliary_train'])}\")\n",
    "print(f\"College Physics Questions Test dataset size: {len(ds_hendryckstest_co_ph['test'])}\")\n",
    "print(f\"College Physics Questions Validation dataset size: {len(ds_hendryckstest_co_ph['validation'])}\")\n",
    "print(f\"College Physics Questions Dev dataset size: {len(ds_hendryckstest_co_ph['dev'])}\")\n",
    "print()\n",
    "print(f\"Astronomy Questions Train dataset size: {len(ds_hendryckstest_as['auxiliary_train'])}\")\n",
    "print(f\"Astronomy Questions Test dataset size: {len(ds_hendryckstest_as['test'])}\")\n",
    "print(f\"Astronomy Questions Validation dataset size: {len(ds_hendryckstest_as['validation'])}\")\n",
    "print(f\"Astronomy Questions Dev dataset size: {len(ds_hendryckstest_as['dev'])}\")"
   ],
   "metadata": {
    "collapsed": false,
    "ExecuteTime": {
     "end_time": "2023-05-02T11:59:09.260178900Z",
     "start_time": "2023-05-02T11:58:40.964955800Z"
    }
   }
  },
  {
   "cell_type": "markdown",
   "source": [
    "Tokenizing and preprocessing"
   ],
   "metadata": {
    "collapsed": false
   }
  },
  {
   "cell_type": "code",
   "execution_count": null,
   "outputs": [],
   "source": [
    "from torchtext\n",
    "\n",
    "def preprocess_web(web_text):\n"
   ],
   "metadata": {
    "collapsed": false
   }
  },
  {
   "cell_type": "code",
   "execution_count": null,
   "outputs": [],
   "source": [],
   "metadata": {
    "collapsed": false
   }
  }
 ],
 "metadata": {
  "kernelspec": {
   "display_name": "Python 3",
   "language": "python",
   "name": "python3"
  },
  "language_info": {
   "codemirror_mode": {
    "name": "ipython",
    "version": 2
   },
   "file_extension": ".py",
   "mimetype": "text/x-python",
   "name": "python",
   "nbconvert_exporter": "python",
   "pygments_lexer": "ipython2",
   "version": "2.7.6"
  }
 },
 "nbformat": 4,
 "nbformat_minor": 0
}
